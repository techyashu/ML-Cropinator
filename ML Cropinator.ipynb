{
 "cells": [
  {
   "cell_type": "code",
   "execution_count": 1,
   "id": "b5df2e91",
   "metadata": {},
   "outputs": [],
   "source": [
    "import numpy as np\n",
    "import pandas as pd\n",
    "import matplotlib.pyplot as plt"
   ]
  },
  {
   "cell_type": "markdown",
   "id": "5c5ac3da",
   "metadata": {},
   "source": [
    "## Importing the dataset"
   ]
  },
  {
   "cell_type": "code",
   "execution_count": 2,
   "id": "9d8f383d",
   "metadata": {},
   "outputs": [],
   "source": [
    "data = pd.read_csv('crop2.csv')"
   ]
  },
  {
   "cell_type": "code",
   "execution_count": 3,
   "id": "35b15ed5",
   "metadata": {
    "scrolled": true
   },
   "outputs": [
    {
     "data": {
      "text/html": [
       "<div>\n",
       "<style scoped>\n",
       "    .dataframe tbody tr th:only-of-type {\n",
       "        vertical-align: middle;\n",
       "    }\n",
       "\n",
       "    .dataframe tbody tr th {\n",
       "        vertical-align: top;\n",
       "    }\n",
       "\n",
       "    .dataframe thead th {\n",
       "        text-align: right;\n",
       "    }\n",
       "</style>\n",
       "<table border=\"1\" class=\"dataframe\">\n",
       "  <thead>\n",
       "    <tr style=\"text-align: right;\">\n",
       "      <th></th>\n",
       "      <th>rainfall</th>\n",
       "      <th>fav_temp</th>\n",
       "      <th>crop_label</th>\n",
       "      <th>crop_name</th>\n",
       "    </tr>\n",
       "  </thead>\n",
       "  <tbody>\n",
       "    <tr>\n",
       "      <th>0</th>\n",
       "      <td>1750</td>\n",
       "      <td>25</td>\n",
       "      <td>1</td>\n",
       "      <td>rice</td>\n",
       "    </tr>\n",
       "    <tr>\n",
       "      <th>1</th>\n",
       "      <td>2000</td>\n",
       "      <td>27</td>\n",
       "      <td>1</td>\n",
       "      <td>rice</td>\n",
       "    </tr>\n",
       "    <tr>\n",
       "      <th>2</th>\n",
       "      <td>1800</td>\n",
       "      <td>29</td>\n",
       "      <td>1</td>\n",
       "      <td>rice</td>\n",
       "    </tr>\n",
       "    <tr>\n",
       "      <th>3</th>\n",
       "      <td>2450</td>\n",
       "      <td>31</td>\n",
       "      <td>1</td>\n",
       "      <td>rice</td>\n",
       "    </tr>\n",
       "    <tr>\n",
       "      <th>4</th>\n",
       "      <td>2900</td>\n",
       "      <td>34</td>\n",
       "      <td>1</td>\n",
       "      <td>rice</td>\n",
       "    </tr>\n",
       "  </tbody>\n",
       "</table>\n",
       "</div>"
      ],
      "text/plain": [
       "   rainfall  fav_temp  crop_label crop_name\n",
       "0      1750        25           1      rice\n",
       "1      2000        27           1      rice\n",
       "2      1800        29           1      rice\n",
       "3      2450        31           1      rice\n",
       "4      2900        34           1      rice"
      ]
     },
     "execution_count": 3,
     "metadata": {},
     "output_type": "execute_result"
    }
   ],
   "source": [
    "data.head()"
   ]
  },
  {
   "cell_type": "code",
   "execution_count": 4,
   "id": "789bded6",
   "metadata": {},
   "outputs": [
    {
     "data": {
      "text/plain": [
       "<matplotlib.collections.PathCollection at 0x207704debe0>"
      ]
     },
     "execution_count": 4,
     "metadata": {},
     "output_type": "execute_result"
    },
    {
     "data": {
      "image/png": "[encoded data removed]",
      "text/plain": [
       "<Figure size 432x288 with 1 Axes>"
      ]
     },
     "metadata": {
      "needs_background": "light"
     },
     "output_type": "display_data"
    }
   ],
   "source": [
    "plt.scatter(data['rainfall'],data['fav_temp'])"
   ]
  },
  {
   "cell_type": "code",
   "execution_count": 5,
   "id": "1fd31ccc",
   "metadata": {},
   "outputs": [],
   "source": [
    "X = data.iloc[:, :-2].values\n",
    "y = data.iloc[:, -2].values"
   ]
  },
  {
   "cell_type": "code",
   "execution_count": 6,
   "id": "f16b2dca",
   "metadata": {},
   "outputs": [
    {
     "name": "stdout",
     "output_type": "stream",
     "text": [
      "[[1750   25]\n",
      " [2000   27]\n",
      " [1800   29]\n",
      " [2450   31]\n",
      " [2900   34]\n",
      " [ 600   18]\n",
      " [ 650   21]\n",
      " [ 855   23]\n",
      " [ 720   25]\n",
      " [ 800   27]\n",
      " [ 270   13]\n",
      " [ 300   15]\n",
      " [ 550   17]\n",
      " [ 600   19]\n",
      " [ 650   23]\n",
      " [ 400   18]\n",
      " [ 435   19]\n",
      " [ 460   17]\n",
      " [ 375   16]\n",
      " [ 500   15]\n",
      " [ 760   11]\n",
      " [ 810   13]\n",
      " [ 900   12]\n",
      " [1150   14]\n",
      " [ 932   15]\n",
      " [1832   31]\n",
      " [ 745   25]\n",
      " [ 660   22]\n",
      " [ 395   17]\n",
      " [ 860   12]\n",
      " [2800   30]\n",
      " [ 670   20]\n",
      " [ 340   17]\n",
      " [ 360   19]\n",
      " [1000   12]\n",
      " [2400   34]\n",
      " [ 765   24]\n",
      " [ 475   22]\n",
      " [ 440   16]\n",
      " [1100   10]\n",
      " [1950   26]\n",
      " [ 870   26]\n",
      " [ 460   21]\n",
      " [ 435   18]\n",
      " [ 720   13]]\n"
     ]
    }
   ],
   "source": [
    "print(X)"
   ]
  },
  {
   "cell_type": "code",
   "execution_count": 7,
   "id": "0785d968",
   "metadata": {},
   "outputs": [
    {
     "name": "stdout",
     "output_type": "stream",
     "text": [
      "[1 1 1 1 1 2 2 2 2 2 3 3 3 3 3 4 4 4 4 4 5 5 5 5 5 1 2 3 4 5 1 2 3 4 5 1 2\n",
      " 3 4 5 1 2 3 4 5]\n"
     ]
    }
   ],
   "source": [
    "print(y)"
   ]
  },
  {
   "cell_type": "markdown",
   "id": "1458b972",
   "metadata": {},
   "source": [
    "## Splitting the dataset into the Training set and Test set"
   ]
  },
  {
   "cell_type": "code",
   "execution_count": 8,
   "id": "826b31a5",
   "metadata": {},
   "outputs": [],
   "source": [
    "from sklearn.model_selection import train_test_split\n",
    "X_train, X_test, y_train, y_test = train_test_split(X, y, test_size = 0.25, random_state = 0)"
   ]
  },
  {
   "cell_type": "code",
   "execution_count": 9,
   "id": "2be8c44f",
   "metadata": {},
   "outputs": [
    {
     "name": "stdout",
     "output_type": "stream",
     "text": [
      "[[ 870   26]\n",
      " [1800   29]\n",
      " [ 435   18]\n",
      " [ 375   16]\n",
      " [ 400   18]\n",
      " [ 900   12]\n",
      " [ 435   19]\n",
      " [1950   26]\n",
      " [ 720   25]\n",
      " [ 600   19]\n",
      " [ 600   18]\n",
      " [ 460   17]\n",
      " [ 340   17]\n",
      " [ 650   23]\n",
      " [2400   34]\n",
      " [ 855   23]\n",
      " [1000   12]\n",
      " [2000   27]\n",
      " [ 745   25]\n",
      " [ 550   17]\n",
      " [ 360   19]\n",
      " [ 932   15]\n",
      " [ 650   21]\n",
      " [1150   14]\n",
      " [ 765   24]\n",
      " [ 810   13]\n",
      " [ 500   15]\n",
      " [ 800   27]\n",
      " [1100   10]\n",
      " [ 460   21]\n",
      " [2450   31]\n",
      " [1750   25]\n",
      " [ 720   13]]\n"
     ]
    }
   ],
   "source": [
    "print(X_train)"
   ]
  },
  {
   "cell_type": "code",
   "execution_count": 10,
   "id": "d243709d",
   "metadata": {},
   "outputs": [
    {
     "name": "stdout",
     "output_type": "stream",
     "text": [
      "[2 1 4 4 4 5 4 1 2 3 2 4 3 3 1 2 5 1 2 3 4 5 2 5 2 5 4 2 5 3 1 1 5]\n"
     ]
    }
   ],
   "source": [
    "print(y_train)"
   ]
  },
  {
   "cell_type": "code",
   "execution_count": 11,
   "id": "5359228a",
   "metadata": {},
   "outputs": [
    {
     "name": "stdout",
     "output_type": "stream",
     "text": [
      "[[2800   30]\n",
      " [ 475   22]\n",
      " [ 660   22]\n",
      " [2900   34]\n",
      " [ 270   13]\n",
      " [1832   31]\n",
      " [ 395   17]\n",
      " [ 300   15]\n",
      " [ 440   16]\n",
      " [ 670   20]\n",
      " [ 860   12]\n",
      " [ 760   11]]\n"
     ]
    }
   ],
   "source": [
    "print(X_test)"
   ]
  },
  {
   "cell_type": "code",
   "execution_count": 12,
   "id": "c5bb2881",
   "metadata": {},
   "outputs": [
    {
     "name": "stdout",
     "output_type": "stream",
     "text": [
      "[1 3 3 1 3 1 4 3 4 2 5 5]\n"
     ]
    }
   ],
   "source": [
    "print(y_test)"
   ]
  },
  {
   "cell_type": "markdown",
   "id": "363088a0",
   "metadata": {},
   "source": [
    "## Feature Scaling"
   ]
  },
  {
   "cell_type": "code",
   "execution_count": 13,
   "id": "c93e0f4c",
   "metadata": {},
   "outputs": [],
   "source": [
    "from sklearn.preprocessing import MinMaxScaler\n",
    "sc = MinMaxScaler()\n",
    "X_train = sc.fit_transform(X_train)\n",
    "X_test = sc.transform(X_test)"
   ]
  },
  {
   "cell_type": "code",
   "execution_count": 14,
   "id": "4ced72c8",
   "metadata": {},
   "outputs": [
    {
     "name": "stdout",
     "output_type": "stream",
     "text": [
      "[[0.25118483 0.66666667]\n",
      " [0.69194313 0.79166667]\n",
      " [0.0450237  0.33333333]\n",
      " [0.01658768 0.25      ]\n",
      " [0.02843602 0.33333333]\n",
      " [0.26540284 0.08333333]\n",
      " [0.0450237  0.375     ]\n",
      " [0.76303318 0.66666667]\n",
      " [0.18009479 0.625     ]\n",
      " [0.12322275 0.375     ]\n",
      " [0.12322275 0.33333333]\n",
      " [0.05687204 0.29166667]\n",
      " [0.         0.29166667]\n",
      " [0.14691943 0.54166667]\n",
      " [0.97630332 1.        ]\n",
      " [0.24407583 0.54166667]\n",
      " [0.31279621 0.08333333]\n",
      " [0.78672986 0.70833333]\n",
      " [0.19194313 0.625     ]\n",
      " [0.09952607 0.29166667]\n",
      " [0.00947867 0.375     ]\n",
      " [0.28056872 0.20833333]\n",
      " [0.14691943 0.45833333]\n",
      " [0.38388626 0.16666667]\n",
      " [0.2014218  0.58333333]\n",
      " [0.22274882 0.125     ]\n",
      " [0.07582938 0.20833333]\n",
      " [0.21800948 0.70833333]\n",
      " [0.36018957 0.        ]\n",
      " [0.05687204 0.45833333]\n",
      " [1.         0.875     ]\n",
      " [0.66824645 0.625     ]\n",
      " [0.18009479 0.125     ]]\n"
     ]
    }
   ],
   "source": [
    "print(X_train)"
   ]
  },
  {
   "cell_type": "code",
   "execution_count": 15,
   "id": "1e1ebbfd",
   "metadata": {},
   "outputs": [
    {
     "name": "stdout",
     "output_type": "stream",
     "text": [
      "[[ 1.16587678  0.83333333]\n",
      " [ 0.06398104  0.5       ]\n",
      " [ 0.15165877  0.5       ]\n",
      " [ 1.21327014  1.        ]\n",
      " [-0.03317536  0.125     ]\n",
      " [ 0.707109    0.875     ]\n",
      " [ 0.02606635  0.29166667]\n",
      " [-0.01895735  0.20833333]\n",
      " [ 0.04739336  0.25      ]\n",
      " [ 0.1563981   0.41666667]\n",
      " [ 0.2464455   0.08333333]\n",
      " [ 0.19905213  0.04166667]]\n"
     ]
    }
   ],
   "source": [
    "print(X_test)"
   ]
  },
  {
   "cell_type": "markdown",
   "id": "0aac3b9d",
   "metadata": {},
   "source": [
    "## Training the K-NN model on the Training set"
   ]
  },
  {
   "cell_type": "code",
   "execution_count": 16,
   "id": "175e435b",
   "metadata": {},
   "outputs": [
    {
     "data": {
      "text/plain": [
       "KNeighborsClassifier(n_neighbors=3)"
      ]
     },
     "execution_count": 16,
     "metadata": {},
     "output_type": "execute_result"
    }
   ],
   "source": [
    "from sklearn.neighbors import KNeighborsClassifier\n",
    "classifier = KNeighborsClassifier(n_neighbors = 3)\n",
    "classifier.fit(X_train, y_train)"
   ]
  },
  {
   "cell_type": "markdown",
   "id": "05cc098b",
   "metadata": {},
   "source": [
    "## Predicting the Test set results"
   ]
  },
  {
   "cell_type": "code",
   "execution_count": 17,
   "id": "172cf1cc",
   "metadata": {},
   "outputs": [
    {
     "name": "stdout",
     "output_type": "stream",
     "text": [
      "[[1 1]\n",
      " [3 3]\n",
      " [2 3]\n",
      " [1 1]\n",
      " [4 3]\n",
      " [1 1]\n",
      " [4 4]\n",
      " [4 3]\n",
      " [4 4]\n",
      " [2 2]\n",
      " [5 5]\n",
      " [5 5]]\n"
     ]
    }
   ],
   "source": [
    "y_pred = classifier.predict(X_test)\n",
    "print(np.concatenate((y_pred.reshape(len(y_pred),1), y_test.reshape(len(y_test),1)),1))"
   ]
  },
  {
   "cell_type": "markdown",
   "id": "a702c380",
   "metadata": {},
   "source": [
    "## Making the Confusion Matrix"
   ]
  },
  {
   "cell_type": "code",
   "execution_count": 18,
   "id": "86bda79e",
   "metadata": {},
   "outputs": [
    {
     "name": "stdout",
     "output_type": "stream",
     "text": [
      "[[3 0 0 0 0]\n",
      " [0 1 0 0 0]\n",
      " [0 1 1 2 0]\n",
      " [0 0 0 2 0]\n",
      " [0 0 0 0 2]]\n"
     ]
    },
    {
     "data": {
      "text/plain": [
       "0.75"
      ]
     },
     "execution_count": 18,
     "metadata": {},
     "output_type": "execute_result"
    }
   ],
   "source": [
    "from sklearn.metrics import confusion_matrix, accuracy_score\n",
    "cm = confusion_matrix(y_test, y_pred)\n",
    "print(cm)\n",
    "accuracy_score(y_test, y_pred)"
   ]
  },
  {
   "cell_type": "markdown",
   "id": "367f2346",
   "metadata": {},
   "source": [
    "## Predicting a new result"
   ]
  },
  {
   "cell_type": "code",
   "execution_count": 19,
   "id": "b32b6760",
   "metadata": {},
   "outputs": [
    {
     "name": "stdout",
     "output_type": "stream",
     "text": [
      "[1]\n"
     ]
    }
   ],
   "source": [
    "print(classifier.predict(sc.transform([[2800,30]])))"
   ]
  },
  {
   "cell_type": "code",
   "execution_count": 20,
   "id": "0f90730a",
   "metadata": {},
   "outputs": [
    {
     "data": {
      "text/plain": [
       "<matplotlib.collections.PathCollection at 0x207729879d0>"
      ]
     },
     "execution_count": 20,
     "metadata": {},
     "output_type": "execute_result"
    },
    {
     "data": {
      "image/png": "[encoded data removed]",
      "text/plain": [
       "<Figure size 432x288 with 1 Axes>"
      ]
     },
     "metadata": {
      "needs_background": "light"
     },
     "output_type": "display_data"
    }
   ],
   "source": [
    "plt.scatter(data['rainfall'],data['fav_temp'])"
   ]
  },
  {
   "cell_type": "code",
   "execution_count": 40,
   "id": "0143dc88",
   "metadata": {},
   "outputs": [],
   "source": [
    "crop_name = ['rice','maize','wheat','millet','rabi']"
   ]
  },
  {
   "cell_type": "code",
   "execution_count": 56,
   "id": "f2f6d146",
   "metadata": {},
   "outputs": [
    {
     "name": "stdout",
     "output_type": "stream",
     "text": [
      "The most favorable crop to be grown in the given land is: RABI\n"
     ]
    }
   ],
   "source": [
    "NumericCrop = classifier.predict(sc.transform([[760,11]]))\n",
    "print(\"The most favorable crop to be grown in the given land is: \" + crop_name[NumericCrop[0]-1].upper())"
   ]
  }
 ],
 "metadata": {
  "kernelspec": {
   "display_name": "Python 3 (ipykernel)",
   "language": "python",
   "name": "python3"
  },
  "language_info": {
   "codemirror_mode": {
    "name": "ipython",
    "version": 3
   },
   "file_extension": ".py",
   "mimetype": "text/x-python",
   "name": "python",
   "nbconvert_exporter": "python",
   "pygments_lexer": "ipython3",
   "version": "3.9.12"
  }
 },
 "nbformat": 4,
 "nbformat_minor": 5
}
